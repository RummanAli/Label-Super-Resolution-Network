{
  "nbformat": 4,
  "nbformat_minor": 0,
  "metadata": {
    "colab": {
      "name": "Label_Super_Resolution.ipynb",
      "version": "0.3.2",
      "provenance": [],
      "collapsed_sections": [],
      "machine_shape": "hm",
      "include_colab_link": true
    },
    "kernelspec": {
      "name": "python3",
      "display_name": "Python 3"
    },
    "accelerator": "GPU"
  },
  "cells": [
    {
      "cell_type": "markdown",
      "metadata": {
        "id": "view-in-github",
        "colab_type": "text"
      },
      "source": [
        "<a href=\"https://colab.research.google.com/github/RummanAli/Label-Super-Resolution-Network/blob/master/Label_Super_Resolution.ipynb\" target=\"_parent\"><img src=\"https://colab.research.google.com/assets/colab-badge.svg\" alt=\"Open In Colab\"/></a>"
      ]
    },
    {
      "cell_type": "code",
      "metadata": {
        "id": "WCaMaBjtN7kP",
        "colab_type": "code",
        "outputId": "8c96d1ca-6f6c-4fb1-cbda-d112f8b76595",
        "colab": {
          "base_uri": "https://localhost:8080/",
          "height": 122
        }
      },
      "source": [
        "from google.colab import drive\n",
        "drive.mount('/content/drive')"
      ],
      "execution_count": 0,
      "outputs": [
        {
          "output_type": "stream",
          "text": [
            "Go to this URL in a browser: https://accounts.google.com/o/oauth2/auth?client_id=947318989803-6bn6qk8qdgf4n4g3pfee6491hc0brc4i.apps.googleusercontent.com&redirect_uri=urn%3Aietf%3Awg%3Aoauth%3A2.0%3Aoob&scope=email%20https%3A%2F%2Fwww.googleapis.com%2Fauth%2Fdocs.test%20https%3A%2F%2Fwww.googleapis.com%2Fauth%2Fdrive%20https%3A%2F%2Fwww.googleapis.com%2Fauth%2Fdrive.photos.readonly%20https%3A%2F%2Fwww.googleapis.com%2Fauth%2Fpeopleapi.readonly&response_type=code\n",
            "\n",
            "Enter your authorization code:\n",
            "··········\n",
            "Mounted at /content/drive\n"
          ],
          "name": "stdout"
        }
      ]
    },
    {
      "cell_type": "code",
      "metadata": {
        "id": "1X6XyvtlKVlh",
        "colab_type": "code",
        "outputId": "d391058f-daca-4902-a5d8-a31a2123d304",
        "colab": {
          "base_uri": "https://localhost:8080/",
          "height": 34
        }
      },
      "source": [
        "!cp \"/content/drive/My Drive/lcm_cvpr2019_small.zip\" ."
      ],
      "execution_count": 0,
      "outputs": [
        {
          "output_type": "stream",
          "text": [
            "cp: error reading '/content/drive/My Drive/lcm_cvpr2019_small.zip': Input/output error\n"
          ],
          "name": "stdout"
        }
      ]
    },
    {
      "cell_type": "code",
      "metadata": {
        "id": "N5LEP5ALKaz8",
        "colab_type": "code",
        "outputId": "6155a89a-b374-4b65-add2-70265ba7a03f",
        "colab": {
          "base_uri": "https://localhost:8080/",
          "height": 204
        }
      },
      "source": [
        "!wget https://lilablobssc.blob.core.windows.net/lcmcvpr2019/lcm_cvpr2019_small.zip"
      ],
      "execution_count": 0,
      "outputs": [
        {
          "output_type": "stream",
          "text": [
            "--2019-08-24 06:26:15--  https://lilablobssc.blob.core.windows.net/lcmcvpr2019/lcm_cvpr2019_small.zip\n",
            "Resolving lilablobssc.blob.core.windows.net (lilablobssc.blob.core.windows.net)... 13.85.88.16\n",
            "Connecting to lilablobssc.blob.core.windows.net (lilablobssc.blob.core.windows.net)|13.85.88.16|:443... connected.\n",
            "HTTP request sent, awaiting response... 200 OK\n",
            "Length: 75224940135 (70G) [application/octet-stream]\n",
            "Saving to: ‘lcm_cvpr2019_small.zip’\n",
            "\n",
            "lcm_cvpr2019_small. 100%[===================>]  70.06G  15.7MB/s    in 67m 19s \n",
            "\n",
            "2019-08-24 07:33:34 (17.8 MB/s) - ‘lcm_cvpr2019_small.zip’ saved [75224940135/75224940135]\n",
            "\n"
          ],
          "name": "stdout"
        }
      ]
    },
    {
      "cell_type": "code",
      "metadata": {
        "id": "5Lovyt3rNWjf",
        "colab_type": "code",
        "colab": {}
      },
      "source": [
        "!cp '/content/lcm_cvpr2019_small.zip' '/content/drive/My Drive'"
      ],
      "execution_count": 0,
      "outputs": []
    },
    {
      "cell_type": "code",
      "metadata": {
        "id": "tZPps_-HOGMg",
        "colab_type": "code",
        "colab": {}
      },
      "source": [
        "from zipfile import ZipFile\n",
        "my = ZipFile(\"lcm_cvpr2019_small.zip\")\n",
        "my.extractall()"
      ],
      "execution_count": 0,
      "outputs": []
    },
    {
      "cell_type": "code",
      "metadata": {
        "id": "NKvLNvkwD8NB",
        "colab_type": "code",
        "colab": {}
      },
      "source": [
        "import matplotlib.pyplot as plt\n",
        "from PIL import Image"
      ],
      "execution_count": 0,
      "outputs": []
    },
    {
      "cell_type": "code",
      "metadata": {
        "id": "UB1fPzsUMLt5",
        "colab_type": "code",
        "colab": {}
      },
      "source": [
        "import numpy as np\n"
      ],
      "execution_count": 0,
      "outputs": []
    },
    {
      "cell_type": "code",
      "metadata": {
        "id": "k5or6czhTWsq",
        "colab_type": "code",
        "colab": {}
      },
      "source": [
        "def largetosmall(image_list):\n",
        "  CroppedImages = []\n",
        "  for image in image_list:\n",
        "    counter =0\n",
        "    image = image.resize((7440,6000))\n",
        "    a,b = image.size\n",
        "    y=0\n",
        "    x=0\n",
        "    while y <b:\n",
        "      while x <a:\n",
        "        imagea = image.crop((x,y,x+224,y+224))\n",
        "        imagea = np.array(imagea)\n",
        "        CroppedImages.append(imagea)\n",
        "        #mapped_image = mapping(imagea)\n",
        "        #onehot.append(to_categorical(mapped_image,num_classes = 22))\n",
        "        x=x+224\n",
        "      y=y+224\n",
        "      x=0\n",
        "  return CroppedImages"
      ],
      "execution_count": 0,
      "outputs": []
    },
    {
      "cell_type": "code",
      "metadata": {
        "id": "uJj7z7SoCxA8",
        "colab_type": "code",
        "colab": {}
      },
      "source": [
        "def mapping(h):\n",
        "  h[h==11] = 1\n",
        "  h[h==12] = 2\n",
        "  h[h==21] = 3\n",
        "  h[h==22] = 4\n",
        "  h[h==23] = 5\n",
        "  h[h==24] = 6\n",
        "  h[h==31] = 7\n",
        "  h[h==41] = 8\n",
        "  h[h==42] = 9\n",
        "  h[h==43] = 10\n",
        "  h[h==51] = 11\n",
        "  h[h==52] = 12\n",
        "  h[h==71] = 13\n",
        "  h[h==72] = 14\n",
        "  h[h==73] = 15\n",
        "  h[h==74] = 16\n",
        "  h[h==81] = 17\n",
        "  h[h==82] = 18\n",
        "  h[h==90] = 19\n",
        "  h[h==95] = 20\n",
        "  h[h==255]= 21\n",
        "  return h"
      ],
      "execution_count": 0,
      "outputs": []
    },
    {
      "cell_type": "code",
      "metadata": {
        "id": "UTHBB---2Rzv",
        "colab_type": "code",
        "colab": {}
      },
      "source": [
        "import os"
      ],
      "execution_count": 0,
      "outputs": []
    },
    {
      "cell_type": "code",
      "metadata": {
        "id": "gghzEYcdbCoe",
        "colab_type": "code",
        "colab": {}
      },
      "source": [
        "def tifextractor(path,last_name):  \n",
        "  TifRetriever = []\n",
        "  for file in os.listdir(path):\n",
        "    if file.endswith(last_name):\n",
        "      x= (os.path.join(path, file))\n",
        "      a = Image.open(x)\n",
        "      TifRetriever.append(a)\n",
        "  return TifRetriever\n",
        "      \n",
        "  "
      ],
      "execution_count": 0,
      "outputs": []
    },
    {
      "cell_type": "code",
      "metadata": {
        "id": "iuDQoh7ZFQzB",
        "colab_type": "code",
        "colab": {}
      },
      "source": [
        "def toonehot(class_list,image_array):\n",
        "  np.expand_dims(image_array,axis = -1)\n",
        "  for clas in class_list:\n",
        "    if(clas==0):\n",
        "      one_hot = np.all(image_array == clas,axis = -1)\n",
        "      one_hot = np.expand_dims(one_hot,-1)\n",
        "    else:\n",
        "      c = np.all(image_array==clas,axis=-1)\n",
        "      c=  np.expand_dims(c,-1)\n",
        "      one_hot = np.concatenate((c,one_hot),axis=3)\n",
        "  \n",
        "  return one_hot    \n",
        "    \n",
        "    \n",
        "    "
      ],
      "execution_count": 0,
      "outputs": []
    },
    {
      "cell_type": "code",
      "metadata": {
        "id": "niaGhDRop1iL",
        "colab_type": "code",
        "colab": {}
      },
      "source": [
        "from tensorflow.keras.layers import Input, AveragePooling2D,Conv2D,Conv2DTranspose,UpSampling2D,Cropping2D,concatenate, MaxPooling2D, Dropout, GlobalMaxPooling2D, GlobalAveragePooling2D\n",
        "from tensorflow.keras.models import Model\n",
        "import tensorflow as tf\n",
        "import tensorflow.keras.backend as K\n",
        "from keras.models import *\n",
        "from keras.layers import *\n",
        "from keras.optimizers import *\n",
        "from keras.callbacks import ModelCheckpoint, LearningRateScheduler\n",
        "from keras import backend as keras"
      ],
      "execution_count": 0,
      "outputs": []
    },
    {
      "cell_type": "code",
      "metadata": {
        "id": "n4CtGKCDMHt_",
        "colab_type": "code",
        "colab": {}
      },
      "source": [
        "X=[]\n",
        "y=[]"
      ],
      "execution_count": 0,
      "outputs": []
    },
    {
      "cell_type": "code",
      "metadata": {
        "id": "7IV-vAYeCHbL",
        "colab_type": "code",
        "colab": {}
      },
      "source": [
        "states = [\n",
        "    \"de_1m_2013_train_tiles\", # 107 tiles\n",
        "    \n",
        "    #\"ny_1m_2013_train_tiles\", # 407 tiles\n",
        "    #\"md_1m_2013_train_tiles\", # 691 tiles\n",
        "    #\"pa_1m_2013_train_tiles\", # 2239 tiles\n",
        "    #\"wv_1m_2014_train_tiles\", # 292 tiles\n",
        "    #\"va_1m_2014_train_tiles\"  # 1238 tiles\n",
        "]\n",
        "\n",
        "path = \"md_1m_2013_train_tiles\"\n",
        "h=tifextractor(path,\"nlcd.tif\")\n",
        "h=largetosmall(h)\n",
        "y.append(h)\n",
        "n=tifextractor(path,\"naip.tif\")\n",
        "n=largetosmall(n)\n",
        "X.append(n)"
      ],
      "execution_count": 0,
      "outputs": []
    },
    {
      "cell_type": "code",
      "metadata": {
        "id": "47T8CetI2Imf",
        "colab_type": "code",
        "outputId": "18a4b9f6-c2aa-43f8-e26f-3d8435c03621",
        "colab": {
          "base_uri": "https://localhost:8080/",
          "height": 34
        }
      },
      "source": [
        "\n",
        "len(X[2])"
      ],
      "execution_count": 0,
      "outputs": [
        {
          "output_type": "execute_result",
          "data": {
            "text/plain": [
              "22950"
            ]
          },
          "metadata": {
            "tags": []
          },
          "execution_count": 57
        }
      ]
    },
    {
      "cell_type": "code",
      "metadata": {
        "id": "afOF2jsLcIih",
        "colab_type": "code",
        "colab": {}
      },
      "source": [
        "def modelunet(input_shape):\n",
        "    input_x=Input(input_shape)\n",
        "\t  a1 = Conv2D(64,3,strides=(1,1),activation = 'relu',kernel_initializer='glorot_uniform')(input_x)\n",
        "\t  a2 = Conv2D(64,3,strides=(1,1),activation = 'relu',kernel_initializer='glorot_uniform')(a1)\n",
        "\t  a3 = MaxPooling2D(2)(a2)\n",
        "\t\n",
        "\t  b1 = Conv2D(128,3,strides=(1,1),activation = 'relu' , kernel_initializer = 'glorot_uniform')(a3)\n",
        "\t  b2 = Conv2D(128,3,strides=(1,1),activation = 'relu' , kernel_initializer = 'glorot_uniform')(b1)\n",
        "\t  b3 =MaxPooling2D(2)(b2)\n",
        "\t\n",
        "\t  c1 = Conv2D(256,3,strides=(1,1),activation = 'relu' , kernel_initializer = 'glorot_uniform')(b3)\n",
        "\t  c2 = Conv2D(256,3,strides=(1,1),activation = 'relu' , kernel_initializer = 'glorot_uniform')(c1)\n",
        "\t  c3 = MaxPooling2D(2)(c2)\n",
        "\t\n",
        "\t  d1 = Conv2D(512,3,strides=(1,1),activation = 'relu' , kernel_initializer = 'glorot_uniform')(c3)\n",
        "\t  d2 = Conv2D(512,3,strides=(1,1),activation = 'relu' , kernel_initializer = 'glorot_uniform')(d1)\n",
        "\t  d3 = MaxPooling2D(2)(d2)\n",
        "\t\n",
        "\t  e1 = Conv2D(1024,3,strides=(1,1),activation = 'relu' , kernel_initializer = 'glorot_uniform')(d3)\n",
        "\t  e2 = Conv2D(1024,3,strides=(1,1),activation = 'relu' , kernel_initializer = 'glorot_uniform')(e1)\n",
        "\t  e3 = Conv2D(512,2,activation = 'relu' ,padding = 'same', kernel_initializer = 'glorot_uniform')(UpSampling2D(size = (2,2)))\n",
        "\t\n",
        "\t  e4 = Cropping2D(4)(d2)\n",
        "\t\n",
        "\t  f1 = concatenate([e4,e3],axis = 3)\n",
        "\t  f2 = Conv2D(512,3,strides=(1,1),activation = 'relu' , kernel_initializer = 'glorot_uniform')(f1)\n",
        "\t  f3 = Conv2D(512,3,strides=(1,1),activation = 'relu' , kernel_initializer = 'glorot_uniform')(f2)\n",
        "\t  f4 = Conv2D(256,2,activation = 'relu' ,padding = 'same', kernel_initializer = 'glorot_uniform')(UpSampling2D(size = (2,2)))\n",
        "\t  f5 = Cropping2D(16)(c2)\n",
        "\t\n",
        "\t  g1 = concatenate([f5,f4],axis = 3)\n",
        "\t  g2 = Conv2D(256,3,strides=(1,1),activation = 'relu' , kernel_initializer = 'glorot_uniform')(g1)\n",
        "\t  g3 = Conv2D(256,3,strides=(1,1),activation = 'relu' , kernel_initializer = 'glorot_uniform')(g2)\n",
        "\t  g4 = Conv2D(128,2,activation = 'relu', padding = 'same' , kernel_initializer = 'glorot_uniform')(UpSampling2D(size = (2,2)))\n",
        "\t  g5 = Cropping2D(40)(b2)\n",
        "\t\n",
        "\t  h1 = concatenate([g5,g4],axis = 3)\n",
        "\t  h2 = Conv2D(128,3,strides=(1,1),activation = 'relu' , kernel_initializer = 'glorot_uniform')(h1)\n",
        "\t  h3 = Conv2D(128,3,strides=(1,1),activation = 'relu' , kernel_initializer = 'glorot_uniform')(h2)\n",
        "\t  h4 = Conv2D(64,2,activation = 'relu', padding = 'same' , kernel_initializer = 'glorot_uniform')(UpSampling2D(size = (2,2)))\n",
        "\t  h5 = Cropping2D(88)(a2)\n",
        "\t\n",
        "\t  i1 = concatenate([h4,h5],axis = 3)\n",
        "\t  i2 = Conv2D(64,3,strides=(1,1),activation = 'relu' , kernel_initializer = 'glorot_uniform')(i1)\n",
        "\t  i3 = Conv2D(64,3,strides=(1,1),activation = 'relu' , kernel_initializer = 'glorot_uniform')(i2)\n",
        "\t  i4 = Conv2D(2,3,strides=(1,1),activation = 'softmax' , kernel_initializer = 'glorot_uniform')(i3)\n",
        "\t\n",
        "\t\n",
        "\t  model = Model(inputs = input_x,outputs = i4)\n",
        "\t  return model"
      ],
      "execution_count": 0,
      "outputs": []
    },
    {
      "cell_type": "code",
      "metadata": {
        "id": "_WNJhWghCySN",
        "colab_type": "code",
        "colab": {}
      },
      "source": [
        "\n",
        "def model2(input_shape):\n",
        "    input_x = Input(input_shape)\n",
        "    X=Conv2D(64,3,strides = (1,1),padding = 'same',data_format = \"channels_last\" ,activation  = 'relu', use_bias  =True,kernel_initializer='glorot_uniform', name = \"fc_1a\")(input_x)\n",
        "    X=Conv2D(64,3,strides = (1,1),padding = 'same',activation  = 'relu', use_bias  =True,kernel_initializer='glorot_uniform', name = \"fc_1b\")(X)\n",
        "    X=MaxPooling2D((2,2), name = \"fc_1c\")(X)\n",
        "    X=Conv2D(128,3,strides = (1,1),padding = 'same',activation  = 'relu', use_bias  =True,kernel_initializer='glorot_uniform', name = \"fc_2a\")(X)\n",
        "    X=Conv2D(128,3,strides = (1,1),padding = 'same',activation  = 'relu', use_bias  =True,kernel_initializer='glorot_uniform', name = \"fc_2b\")(X)\n",
        "    X=MaxPooling2D((2,2), name = \"fc_2c\")(X)\n",
        "    X=Conv2D(256,3,strides = (1,1),padding = 'same',activation  = 'relu', use_bias  =True,kernel_initializer='glorot_uniform', name = \"fc_3a\")(X)\n",
        "    X=Conv2D(256,3,strides = (1,1),padding = 'same',activation  = 'relu', use_bias  =True,kernel_initializer='glorot_uniform', name = \"fc_3b\")(X)\n",
        "    X=Conv2D(256,3,strides = (1,1),padding = 'same',activation  = 'relu', use_bias  =True,kernel_initializer='glorot_uniform', name = \"fc_3c\")(X)\n",
        "    fc_3d=MaxPooling2D((2,2), name = \"fc_3d\")(X)\n",
        "    X=Conv2D(512,3,strides = (1,1),padding = 'same',activation  = 'relu', use_bias  =True,kernel_initializer='glorot_uniform', name = \"fc_4a\")(fc_3d)\n",
        "    X=Conv2D(512,3,strides = (1,1),padding = 'same',activation  = 'relu', use_bias  =True,kernel_initializer='glorot_uniform', name = \"fc_4b\")(X)\n",
        "    X=Conv2D(512,3,strides = (1,1),padding = 'same',activation  = 'relu', use_bias  =True,kernel_initializer='glorot_uniform', name = \"fc_4c\")(X)\n",
        "    fc_4d=MaxPooling2D((2,2), name = \"fc_4d\")(X)\n",
        "    X=Conv2D(512,3,strides = (1,1),padding = 'same',activation  = 'relu', use_bias  =True,kernel_initializer='glorot_uniform', name = \"fc_5a\")(fc_4d)\n",
        "    X=Conv2D(512,3,strides = (1,1),padding = 'same',activation  = 'relu', use_bias  =True,kernel_initializer='glorot_uniform', name = \"fc_5b\")(X)\n",
        "    X=Conv2D(512,3,strides = (1,1),padding = 'same',activation  = 'relu', use_bias  =True,kernel_initializer='glorot_uniform', name = \"fc_5c\")(X)\n",
        "    X=MaxPooling2D((2,2), name = \"fc_5d\")(X)\n",
        "    X=Conv2D(4096,1,activation = 'relu', use_bias  =True,kernel_initializer='glorot_uniform', name = \"fc_6\")(X)\n",
        "    X=Dropout(0.5)(X)\n",
        "    X=Conv2D(4096,1,activation = 'relu', use_bias  =True,kernel_initializer='glorot_uniform', name = \"fc_7\")(X)\n",
        "    X=Dropout(0.5)(X)\n",
        "    fc_8=Conv2D(2,1,strides = (1,1),activation ='relu' , use_bias = True,kernel_initializer='glorot_uniform', name = \"fc_8\")(X)\n",
        "    fc_9=Conv2DTranspose(512,4,strides = (2,2),activation ='relu',padding = 'same',use_bias = True,kernel_initializer='glorot_uniform', name =\"fc_9\")(fc_8)\n",
        "    fc_9_skip_connected  = tf.add(fc_9,fc_4d)\n",
        "    fc_10=Conv2DTranspose(256,4,strides = (2,2),activation ='relu' , padding = 'same' ,use_bias = True,kernel_initializer='glorot_uniform', name = \"fc_10\")(fc_9_skip_connected)\n",
        "    fc_10_skip_connected = tf.add(fc_10,fc_3d)\n",
        "    X = Conv2DTranspose(3,16,strides = (8,8),activation ='softmax' , padding ='same',kernel_initializer='glorot_uniform', name = \"fc_11\")(fc_10_skip_connected)\n",
        "    model = Model(inputs = input_x,outputs = X,name = 'MyModel')\n",
        "    return model"
      ],
      "execution_count": 0,
      "outputs": []
    },
    {
      "cell_type": "code",
      "metadata": {
        "colab_type": "code",
        "id": "m_NqwNKSyxyc",
        "colab": {}
      },
      "source": [
        "def unet(input_x):\n",
        "    inputs = Input(input_x)\n",
        "    conv1 = Conv2D(64, 3, activation = 'relu', padding = 'same', kernel_initializer = 'he_normal')(inputs)\n",
        "    conv1 = Conv2D(64, 3, activation = 'relu', padding = 'same', kernel_initializer = 'he_normal')(conv1)\n",
        "    pool1 = MaxPooling2D(pool_size=(2, 2))(conv1)\n",
        "    conv2 = Conv2D(128, 3, activation = 'relu', padding = 'same', kernel_initializer = 'he_normal')(pool1)\n",
        "    conv2 = Conv2D(128, 3, activation = 'relu', padding = 'same', kernel_initializer = 'he_normal')(conv2)\n",
        "    pool2 = MaxPooling2D(pool_size=(2, 2))(conv2)\n",
        "    conv3 = Conv2D(256, 3, activation = 'relu', padding = 'same', kernel_initializer = 'he_normal')(pool2)\n",
        "    conv3 = Conv2D(256, 3, activation = 'relu', padding = 'same', kernel_initializer = 'he_normal')(conv3)\n",
        "    pool3 = MaxPooling2D(pool_size=(2, 2))(conv3)\n",
        "    conv4 = Conv2D(512, 3, activation = 'relu', padding = 'same', kernel_initializer = 'he_normal')(pool3)\n",
        "    conv4 = Conv2D(512, 3, activation = 'relu', padding = 'same', kernel_initializer = 'he_normal')(conv4)\n",
        "    drop4 = Dropout(0.5)(conv4)\n",
        "    pool4 = MaxPooling2D(pool_size=(2, 2))(drop4)\n",
        "\n",
        "    conv5 = Conv2D(1024, 3, activation = 'relu', padding = 'same', kernel_initializer = 'he_normal')(pool4)\n",
        "    conv5 = Conv2D(1024, 3, activation = 'relu', padding = 'same', kernel_initializer = 'he_normal')(conv5)\n",
        "    drop5 = Dropout(0.5)(conv5)\n",
        "\n",
        "    up6 = Conv2D(512, 2, activation = 'relu', padding = 'same', kernel_initializer = 'he_normal')(UpSampling2D(size = (2,2))(drop5))\n",
        "    merge6 = concatenate([drop4,up6], axis = 3)\n",
        "    conv6 = Conv2D(512, 3, activation = 'relu', padding = 'same', kernel_initializer = 'he_normal')(merge6)\n",
        "    conv6 = Conv2D(512, 3, activation = 'relu', padding = 'same', kernel_initializer = 'he_normal')(conv6)\n",
        "\n",
        "    up7 = Conv2D(256, 2, activation = 'relu', padding = 'same', kernel_initializer = 'he_normal')(UpSampling2D(size = (2,2))(conv6))\n",
        "    merge7 = concatenate([conv3,up7], axis = 3)\n",
        "    conv7 = Conv2D(256, 3, activation = 'relu', padding = 'same', kernel_initializer = 'he_normal')(merge7)\n",
        "    conv7 = Conv2D(256, 3, activation = 'relu', padding = 'same', kernel_initializer = 'he_normal')(conv7)\n",
        "\n",
        "    up8 = Conv2D(128, 2, activation = 'relu', padding = 'same', kernel_initializer = 'he_normal')(UpSampling2D(size = (2,2))(conv7))\n",
        "    merge8 = concatenate([conv2,up8], axis = 3)\n",
        "    conv8 = Conv2D(128, 3, activation = 'relu', padding = 'same', kernel_initializer = 'he_normal')(merge8)\n",
        "    conv8 = Conv2D(128, 3, activation = 'relu', padding = 'same', kernel_initializer = 'he_normal')(conv8)\n",
        "\n",
        "    up9 = Conv2D(64, 2, activation = 'relu', padding = 'same', kernel_initializer = 'he_normal')(UpSampling2D(size = (2,2))(conv8))\n",
        "    merge9 = concatenate([conv1,up9], axis = 3)\n",
        "    conv9 = Conv2D(64, 3, activation = 'relu', padding = 'same', kernel_initializer = 'he_normal')(merge9)\n",
        "    conv9 = Conv2D(64, 3, activation = 'relu', padding = 'same', kernel_initializer = 'he_normal')(conv9)\n",
        "    conv9 = Conv2D(22, 3, activation = 'softmax', padding = 'same', kernel_initializer = 'he_normal')(conv9)\n",
        "    \n",
        "    model = Model(input = inputs, output = conv9)\n",
        "    return model"
      ],
      "execution_count": 0,
      "outputs": []
    },
    {
      "cell_type": "code",
      "metadata": {
        "id": "2dn6rEkpMXxl",
        "colab_type": "code",
        "colab": {}
      },
      "source": [
        "h=tifextractor(\"/content/de_1m_2013_train_tiles\",\"nlcd.tif\")\n",
        "h=largetosmall(h)\n",
        "class_list = [0, 11, 12, 21, 22, 23, 24, 31, 41, 42, 43, 51, 52, 71, 72, 73, 74, 81, 82, 90, 95, 255]\n",
        "#y= np.expand_dims(h,-1)\n",
        "#y=toonehot(class_list,y[:5000])\n",
        "X=tifextractor(\"/content/de_1m_2013_train_tiles/m_3807519_sw_18_1_20130915_naip.tif\",\"naip.tif\")\n",
        "X=largetosmall(X)\n",
        "X=X[:10000]"
      ],
      "execution_count": 0,
      "outputs": []
    },
    {
      "cell_type": "code",
      "metadata": {
        "id": "-6xKRopdDSqr",
        "colab_type": "code",
        "colab": {}
      },
      "source": [
        "X = np.array(X)\n",
        "y = np.array(y)\n",
        "print(X.shape)\n",
        "print(y.shape)"
      ],
      "execution_count": 0,
      "outputs": []
    },
    {
      "cell_type": "code",
      "metadata": {
        "id": "JEl_2vs6B0a8",
        "colab_type": "code",
        "colab": {}
      },
      "source": [
        "from keras.utils.np_utils import to_categorical"
      ],
      "execution_count": 0,
      "outputs": []
    },
    {
      "cell_type": "code",
      "metadata": {
        "id": "eCOTwzjbZLMz",
        "colab_type": "code",
        "colab": {}
      },
      "source": [
        "from sklearn.utils import shuffle\n",
        "X, h = shuffle(X[:1000],dummy_h, random_state=0)"
      ],
      "execution_count": 0,
      "outputs": []
    },
    {
      "cell_type": "code",
      "metadata": {
        "id": "ymaLybJCRuMu",
        "colab_type": "code",
        "colab": {}
      },
      "source": [
        "y = np.expand_dims(h,axis=-1)"
      ],
      "execution_count": 0,
      "outputs": []
    },
    {
      "cell_type": "code",
      "metadata": {
        "id": "aFyaX9kTz6cG",
        "colab_type": "code",
        "outputId": "b68f6072-c222-4857-92c1-adafc0507187",
        "colab": {
          "base_uri": "https://localhost:8080/",
          "height": 286
        }
      },
      "source": [
        "plt.imshow(X[6])"
      ],
      "execution_count": 0,
      "outputs": [
        {
          "output_type": "execute_result",
          "data": {
            "text/plain": [
              "<matplotlib.image.AxesImage at 0x7f26b578bda0>"
            ]
          },
          "metadata": {
            "tags": []
          },
          "execution_count": 48
        },
        {
          "output_type": "display_data",
          "data": {
            "image/png": "[encoded data removed]",
            "text/plain": [
              "<Figure size 432x288 with 1 Axes>"
            ]
          },
          "metadata": {
            "tags": []
          }
        }
      ]
    },
    {
      "cell_type": "code",
      "metadata": {
        "id": "HZMT2GRFMmx7",
        "colab_type": "code",
        "outputId": "5184bdbe-0684-4720-c271-5b82d1bcf2cf",
        "colab": {
          "base_uri": "https://localhost:8080/",
          "height": 286
        }
      },
      "source": [
        "plt.imshow(h[5])"
      ],
      "execution_count": 0,
      "outputs": [
        {
          "output_type": "execute_result",
          "data": {
            "text/plain": [
              "<matplotlib.image.AxesImage at 0x7f26b53f83c8>"
            ]
          },
          "metadata": {
            "tags": []
          },
          "execution_count": 52
        },
        {
          "output_type": "display_data",
          "data": {
            "image/png": "[encoded data removed]",
            "text/plain": [
              "<Figure size 432x288 with 1 Axes>"
            ]
          },
          "metadata": {
            "tags": []
          }
        }
      ]
    },
    {
      "cell_type": "code",
      "metadata": {
        "id": "bLAydtKuomY6",
        "colab_type": "code",
        "outputId": "e63a0042-e4ec-47fe-cbc9-cbc6aac1db6d",
        "colab": {
          "base_uri": "https://localhost:8080/",
          "height": 163
        }
      },
      "source": [
        "a[1].shape"
      ],
      "execution_count": 0,
      "outputs": [
        {
          "output_type": "error",
          "ename": "IndexError",
          "evalue": "ignored",
          "traceback": [
            "\u001b[0;31m---------------------------------------------------------------------------\u001b[0m",
            "\u001b[0;31mIndexError\u001b[0m                                Traceback (most recent call last)",
            "\u001b[0;32m<ipython-input-61-a7b3d2209edd>\u001b[0m in \u001b[0;36m<module>\u001b[0;34m()\u001b[0m\n\u001b[0;32m----> 1\u001b[0;31m \u001b[0ma\u001b[0m\u001b[0;34m[\u001b[0m\u001b[0;36m1\u001b[0m\u001b[0;34m]\u001b[0m\u001b[0;34m.\u001b[0m\u001b[0mshape\u001b[0m\u001b[0;34m\u001b[0m\u001b[0;34m\u001b[0m\u001b[0m\n\u001b[0m",
            "\u001b[0;31mIndexError\u001b[0m: index 1 is out of bounds for axis 0 with size 1"
          ]
        }
      ]
    },
    {
      "cell_type": "code",
      "metadata": {
        "id": "QYOpPZb3YBuc",
        "colab_type": "code",
        "outputId": "69d31774-fd80-4539-d5e4-2d0168323845",
        "colab": {
          "base_uri": "https://localhost:8080/",
          "height": 68
        }
      },
      "source": [
        "y[4][200][76     ]"
      ],
      "execution_count": 0,
      "outputs": [
        {
          "output_type": "execute_result",
          "data": {
            "text/plain": [
              "array([False, False,  True, False, False, False, False, False, False,\n",
              "       False, False, False, False, False, False, False, False, False,\n",
              "       False, False, False, False])"
            ]
          },
          "metadata": {
            "tags": []
          },
          "execution_count": 46
        }
      ]
    },
    {
      "cell_type": "code",
      "metadata": {
        "id": "0ZzYdVYW0F7C",
        "colab_type": "code",
        "outputId": "16ef755c-669f-4ec6-9eab-68760fc33826",
        "colab": {
          "base_uri": "https://localhost:8080/",
          "height": 286
        }
      },
      "source": [
        "plt.imshow(X[1])"
      ],
      "execution_count": 0,
      "outputs": [
        {
          "output_type": "execute_result",
          "data": {
            "text/plain": [
              "<matplotlib.image.AxesImage at 0x7f3921158ac8>"
            ]
          },
          "metadata": {
            "tags": []
          },
          "execution_count": 36
        },
        {
          "output_type": "display_data",
          "data": {
            "image/png": "[encoded data removed]",
            "text/plain": [
              "<Figure size 432x288 with 1 Axes>"
            ]
          },
          "metadata": {
            "tags": []
          }
        }
      ]
    },
    {
      "cell_type": "code",
      "metadata": {
        "id": "myV2jPfA9U2s",
        "colab_type": "code",
        "outputId": "7d7204bf-7eab-4d9d-8e63-697b5e210227",
        "colab": {
          "base_uri": "https://localhost:8080/",
          "height": 54
        }
      },
      "source": [
        "segmodel = unet(X[1].shape)"
      ],
      "execution_count": 0,
      "outputs": [
        {
          "output_type": "stream",
          "text": [
            "/usr/local/lib/python3.6/dist-packages/ipykernel_launcher.py:42: UserWarning: Update your `Model` call to the Keras 2 API: `Model(inputs=Tensor(\"in..., outputs=Tensor(\"co...)`\n"
          ],
          "name": "stderr"
        }
      ]
    },
    {
      "cell_type": "code",
      "metadata": {
        "id": "O-8NOejQtKLt",
        "colab_type": "code",
        "colab": {}
      },
      "source": [
        "Mean = np.array([[0.00,0.00,0.00,0.00],\n",
        "\t\t[0.97,0.01,0.01,0.02], \n",
        "\t\t[0.00,0.00,1.00,0.00], \n",
        "\t\t[0.00,0.42,0.46,0.11], \n",
        "\t\t[0.01,0.31,0.34,0.35], \n",
        "\t\t[0.01,0.14,0.21,0.63], \n",
        "\t\t[0.01,0.03,0.07,0.89], \n",
        "\t\t[0.09,0.13,0.45,0.32], \n",
        "\t\t[0.00,0.92,0.06,0.01], \n",
        "\t\t[0.00,0.94,0.05,0.01], \n",
        "\t\t[0.00,0.92,0.06,0.02], \n",
        "\t\t[0.00,0.50,0.50,0.00], \n",
        "\t\t[0.00,0.71,0.26,0.03], \n",
        "\t\t[0.01,0.38,0.54,0.07], \n",
        "\t\t[0.00,0.50,0.50,0.00],\n",
        "\t\t[0.00,0.00,1.00,0.00], \n",
        "\t\t[0.00,0.00,1.00,0.00], \n",
        "\t\t[0.00,0.11,0.86,0.03], \n",
        "\t\t[0.00,0.11,0.86,0.03], \n",
        "\t\t[0.01,0.90,0.08,0.00], \n",
        "\t\t[0.11,0.07,0.81,0.01], \n",
        "\t\t[0.00,0.00,0.00,0.00]])\n",
        "\t\t\n",
        "Variance = np.array([[0.00,0.00,0.00,0.00], \n",
        "\t\t\t[0.15,0.06,0.06,0.13], \n",
        "\t\t\t[0.00,0.00,0.10,0.00], \n",
        "\t\t\t[0.05,0.34,0.33,0.13], \n",
        "\t\t\t[0.06,0.24,0.21,0.18], \n",
        "\t\t\t[0.07,0.17,0.19,0.22], \n",
        "\t\t\t[0.07,0.07,0.14,0.17], \n",
        "\t\t\t[0.26,0.26,0.41,0.40], \n",
        "\t\t\t[0.03,0.19,0.16,0.07], \n",
        "\t\t\t[0.03,0.18,0.16,0.05], \n",
        "\t\t\t[0.05,0.18,0.15,0.06], \n",
        "\t\t\t[0.00,0.10,0.10,0.00], \n",
        "\t\t\t[0.05,0.35,0.33,0.09], \n",
        "\t\t\t[0.09,0.40,0.39,0.18], \n",
        "\t\t\t[0.00,0.10,0.10,0.00], \n",
        "\t\t\t[0.00,0.00,0.10,0.00], \n",
        "\t\t\t[0.00,0.00,0.10,0.00], \n",
        "\t\t\t[0.02,0.21,0.23,0.09], \n",
        "\t\t\t[0.03,0.22,0.24,0.09], \n",
        "\t\t\t[0.07,0.22,0.21,0.03], \n",
        "\t\t\t[0.21,0.22,0.29,0.05], \n",
        "\t\t\t[0.00,0.00,0.00,0.00]])"
      ],
      "execution_count": 0,
      "outputs": []
    },
    {
      "cell_type": "code",
      "metadata": {
        "id": "eiQPPc5eRVet",
        "colab_type": "code",
        "colab": {}
      },
      "source": [
        " nlcd_class_weights = {\n",
        "        \n",
        "        8:0.5, \n",
        "        17:0.5, 18:0.5,\n",
        " }"
      ],
      "execution_count": 0,
      "outputs": []
    },
    {
      "cell_type": "code",
      "metadata": {
        "id": "o2g6Ou8dqxm5",
        "colab_type": "code",
        "colab": {}
      },
      "source": [
        "def sr_loss(nlcd_class_weights, nlcd_means, nlcd_vars, boundary=0):\n",
        "    '''Calculate superres loss according to ICLR paper'''\n",
        "\n",
        "    def ddist(prediction, c_interval_center, c_interval_radius):\n",
        "        return K.relu(K.abs(prediction - c_interval_center) - c_interval_radius)\n",
        "    \n",
        "    def loss(y_true, y_pred):\n",
        "        \n",
        "        super_res_crit = 0\n",
        "        mask_size =  K.expand_dims(K.sum(y_true, axis=(1,2,3)) + 10, -1) # shape 16x1\n",
        "\n",
        "        for nlcd_idx in range(nlcd_class_weights.shape[0]):\n",
        "\n",
        "            c_mask = K.expand_dims(y_true[:,:,:,nlcd_idx], -1) # shape 32x240x240x1\n",
        "            c_mask_size = K.sum(c_mask, axis=(1,2)) + 0.000001 # shape 32x1\n",
        "            \n",
        "            c_interval_center = nlcd_means[nlcd_idx] # shape 4,\n",
        "            c_interval_radius = nlcd_vars[nlcd_idx] # shape 4,\n",
        "\n",
        "            masked_probs = y_pred * c_mask # (32x240x240x4) * (32x240x240x1) --> shape (32x240x240x4)\n",
        "            \n",
        "            # Mean mean of predicted distribution\n",
        "            mean = K.sum(masked_probs, axis=(1,2)) / c_mask_size # (16x5) / (16,1) --> shape 16x5\n",
        "            \n",
        "            # Mean var of predicted distribution\n",
        "            var = K.sum(masked_probs * (1.-masked_probs), axis=(1,2)) / (c_mask_size * c_mask_size) # (16x5) / (16,1) --> shape 16x5\n",
        "            \n",
        "            c_super_res_crit = 0.5*(K.square(c_interval_center-mean))/(var*var+c_interval_radius*c_interval_radius)+0.5*K.log(2*(c_interval_radius*c_interval_radius)*22/7)\n",
        "            #c_super_res_crit = K.square(ddist(mean, c_interval_center, c_interval_radius)) # calculate numerator of equation 7 in ICLR paper\n",
        "            #c_super_res_crit = c_super_res_crit / (var + (c_interval_radius * c_interval_radius) + 0.000001) # calculate denominator\n",
        "            #c_super_res_crit = c_super_res_crit + K.log(var + 0.03) # calculate log term\n",
        "            #c_super_res_crit = (c_super_res_crit * (c_mask_size / mask_size) * nlcd_class_weights[nlcd_idx]) # weight by the fraction of NLCD pixels and the NLCD class weight\n",
        "            \n",
        "            super_res_crit = super_res_crit + c_super_res_crit # accumulate\n",
        "        \n",
        "        super_res_crit = K.sum(super_res_crit, axis=1) # sum superres loss across highres classes\n",
        "        return super_res_crit\n",
        "    \n",
        "    return loss"
      ],
      "execution_count": 0,
      "outputs": []
    },
    {
      "cell_type": "code",
      "metadata": {
        "id": "XcI65WAbY_tC",
        "colab_type": "code",
        "colab": {}
      },
      "source": [
        "segmodel.summary()"
      ],
      "execution_count": 0,
      "outputs": []
    },
    {
      "cell_type": "code",
      "metadata": {
        "id": "dvERV7NBRNMo",
        "colab_type": "code",
        "outputId": "02142443-b06a-4d1b-9ae2-92f0022585bf",
        "colab": {
          "base_uri": "https://localhost:8080/",
          "height": 34
        }
      },
      "source": [
        "X = np.array(X)\n",
        "y.shape\n"
      ],
      "execution_count": 0,
      "outputs": [
        {
          "output_type": "execute_result",
          "data": {
            "text/plain": [
              "(10000, 224, 224, 1)"
            ]
          },
          "metadata": {
            "tags": []
          },
          "execution_count": 23
        }
      ]
    },
    {
      "cell_type": "code",
      "metadata": {
        "id": "6oJc4AfyKU2-",
        "colab_type": "code",
        "outputId": "fedf629a-f7d3-407a-e553-c43f7ed4601c",
        "colab": {
          "base_uri": "https://localhost:8080/",
          "height": 1000
        }
      },
      "source": [
        "segmodel.compile(optimizer = Adam(lr=1e-6), loss = \"categorical_crossentropy\",metrics = [\"accuracy\"])\n",
        "segmodel.fit(x = X,y = h, epochs =100 ,batch_size = 16)"
      ],
      "execution_count": 0,
      "outputs": [
        {
          "output_type": "stream",
          "text": [
            "Epoch 1/100\n",
            "1000/1000 [==============================] - 115s 115ms/step - loss: 14.0977 - acc: 0.1249\n",
            "Epoch 2/100\n",
            "1000/1000 [==============================] - 111s 111ms/step - loss: 14.0976 - acc: 0.1249\n",
            "Epoch 3/100\n",
            "1000/1000 [==============================] - 111s 111ms/step - loss: 14.0971 - acc: 0.1249\n",
            "Epoch 4/100\n",
            "1000/1000 [==============================] - 111s 111ms/step - loss: 14.0967 - acc: 0.1249\n",
            "Epoch 5/100\n",
            "1000/1000 [==============================] - 111s 111ms/step - loss: 14.0965 - acc: 0.1249\n",
            "Epoch 6/100\n",
            "1000/1000 [==============================] - 111s 111ms/step - loss: 14.0962 - acc: 0.1249\n",
            "Epoch 7/100\n",
            "1000/1000 [==============================] - 111s 111ms/step - loss: 14.0961 - acc: 0.1249\n",
            "Epoch 8/100\n",
            "1000/1000 [==============================] - 111s 111ms/step - loss: 14.0959 - acc: 0.1249\n",
            "Epoch 9/100\n",
            "1000/1000 [==============================] - 111s 111ms/step - loss: 14.0963 - acc: 0.1249\n",
            "Epoch 10/100\n",
            "1000/1000 [==============================] - 111s 111ms/step - loss: 14.0957 - acc: 0.1249\n",
            "Epoch 11/100\n",
            "1000/1000 [==============================] - 111s 111ms/step - loss: 14.0956 - acc: 0.1249\n",
            "Epoch 12/100\n",
            "1000/1000 [==============================] - 111s 111ms/step - loss: 14.0955 - acc: 0.1249\n",
            "Epoch 13/100\n",
            "1000/1000 [==============================] - 111s 111ms/step - loss: 14.0954 - acc: 0.1249\n",
            "Epoch 14/100\n",
            "1000/1000 [==============================] - 111s 111ms/step - loss: 14.0951 - acc: 0.1249\n",
            "Epoch 15/100\n",
            "1000/1000 [==============================] - 111s 111ms/step - loss: 14.0951 - acc: 0.1250\n",
            "Epoch 16/100\n",
            "1000/1000 [==============================] - 111s 111ms/step - loss: 14.0952 - acc: 0.1249\n",
            "Epoch 17/100\n",
            "1000/1000 [==============================] - 111s 111ms/step - loss: 14.0950 - acc: 0.1249\n",
            "Epoch 18/100\n",
            "1000/1000 [==============================] - 111s 111ms/step - loss: 14.0948 - acc: 0.1249\n",
            "Epoch 19/100\n",
            "1000/1000 [==============================] - 111s 111ms/step - loss: 14.0949 - acc: 0.1249\n",
            "Epoch 20/100\n",
            "1000/1000 [==============================] - 111s 111ms/step - loss: 14.0947 - acc: 0.1249\n",
            "Epoch 21/100\n",
            "1000/1000 [==============================] - 111s 111ms/step - loss: 14.0945 - acc: 0.1250\n",
            "Epoch 22/100\n",
            "1000/1000 [==============================] - 111s 111ms/step - loss: 14.0944 - acc: 0.1250\n",
            "Epoch 23/100\n",
            "1000/1000 [==============================] - 111s 111ms/step - loss: 14.0944 - acc: 0.1250\n",
            "Epoch 24/100\n",
            "1000/1000 [==============================] - 111s 111ms/step - loss: 14.0943 - acc: 0.1249\n",
            "Epoch 25/100\n",
            "1000/1000 [==============================] - 111s 111ms/step - loss: 14.0944 - acc: 0.1249\n",
            "Epoch 26/100\n",
            "1000/1000 [==============================] - 111s 111ms/step - loss: 14.0941 - acc: 0.1250\n",
            "Epoch 27/100\n",
            "1000/1000 [==============================] - 111s 111ms/step - loss: 14.0941 - acc: 0.1250\n",
            "Epoch 28/100\n",
            "1000/1000 [==============================] - 111s 111ms/step - loss: 14.0939 - acc: 0.1250\n",
            "Epoch 29/100\n",
            "1000/1000 [==============================] - 111s 111ms/step - loss: 14.0939 - acc: 0.1250\n",
            "Epoch 30/100\n",
            "1000/1000 [==============================] - 110s 110ms/step - loss: 14.0941 - acc: 0.1249\n",
            "Epoch 31/100\n",
            "1000/1000 [==============================] - 111s 111ms/step - loss: 14.0941 - acc: 0.1250\n",
            "Epoch 32/100\n",
            "1000/1000 [==============================] - 111s 111ms/step - loss: 14.0938 - acc: 0.1250\n",
            "Epoch 33/100\n",
            "1000/1000 [==============================] - 111s 111ms/step - loss: 14.0938 - acc: 0.1250\n",
            "Epoch 34/100\n",
            "1000/1000 [==============================] - 111s 111ms/step - loss: 14.0936 - acc: 0.1250\n",
            "Epoch 35/100\n",
            "1000/1000 [==============================] - 111s 111ms/step - loss: 14.0934 - acc: 0.1250\n",
            "Epoch 36/100\n",
            "1000/1000 [==============================] - 111s 111ms/step - loss: 14.0935 - acc: 0.1250\n",
            "Epoch 37/100\n",
            "1000/1000 [==============================] - 111s 111ms/step - loss: 14.0934 - acc: 0.1250\n",
            "Epoch 38/100\n",
            "1000/1000 [==============================] - 111s 111ms/step - loss: 14.0935 - acc: 0.1250\n",
            "Epoch 39/100\n",
            "1000/1000 [==============================] - 111s 111ms/step - loss: 14.0932 - acc: 0.1250\n",
            "Epoch 40/100\n",
            "1000/1000 [==============================] - 110s 110ms/step - loss: 14.0931 - acc: 0.1250\n",
            "Epoch 41/100\n",
            "1000/1000 [==============================] - 111s 111ms/step - loss: 14.0932 - acc: 0.1250\n",
            "Epoch 42/100\n",
            "1000/1000 [==============================] - 111s 111ms/step - loss: 14.0931 - acc: 0.1250\n",
            "Epoch 43/100\n",
            "1000/1000 [==============================] - 111s 111ms/step - loss: 14.0931 - acc: 0.1250\n",
            "Epoch 44/100\n",
            "1000/1000 [==============================] - 111s 111ms/step - loss: 14.0930 - acc: 0.1250\n",
            "Epoch 45/100\n",
            "1000/1000 [==============================] - 111s 111ms/step - loss: 14.0930 - acc: 0.1250\n",
            "Epoch 46/100\n",
            "1000/1000 [==============================] - 111s 111ms/step - loss: 14.0929 - acc: 0.1250\n",
            "Epoch 47/100\n",
            "1000/1000 [==============================] - 110s 110ms/step - loss: 14.0929 - acc: 0.1250\n",
            "Epoch 48/100\n",
            "1000/1000 [==============================] - 111s 111ms/step - loss: 14.0929 - acc: 0.1250\n",
            "Epoch 49/100\n",
            "1000/1000 [==============================] - 111s 111ms/step - loss: 14.0928 - acc: 0.1250\n",
            "Epoch 50/100\n",
            "1000/1000 [==============================] - 111s 111ms/step - loss: 14.0927 - acc: 0.1250\n",
            "Epoch 51/100\n",
            "1000/1000 [==============================] - 111s 111ms/step - loss: 14.0928 - acc: 0.1250\n",
            "Epoch 52/100\n",
            "1000/1000 [==============================] - 111s 111ms/step - loss: 14.0927 - acc: 0.1250\n",
            "Epoch 53/100\n",
            "1000/1000 [==============================] - 111s 111ms/step - loss: 14.0926 - acc: 0.1250\n",
            "Epoch 54/100\n",
            "1000/1000 [==============================] - 111s 111ms/step - loss: 14.0925 - acc: 0.1250\n",
            "Epoch 55/100\n",
            "1000/1000 [==============================] - 111s 111ms/step - loss: 14.0924 - acc: 0.1250\n",
            "Epoch 56/100\n",
            "1000/1000 [==============================] - 110s 110ms/step - loss: 14.0925 - acc: 0.1250\n",
            "Epoch 57/100\n",
            "1000/1000 [==============================] - 110s 110ms/step - loss: 14.0923 - acc: 0.1250\n",
            "Epoch 58/100\n",
            "1000/1000 [==============================] - 111s 111ms/step - loss: 14.0923 - acc: 0.1250\n",
            "Epoch 59/100\n",
            "1000/1000 [==============================] - 111s 111ms/step - loss: 14.0924 - acc: 0.1250\n",
            "Epoch 60/100\n",
            "1000/1000 [==============================] - 111s 111ms/step - loss: 14.0923 - acc: 0.1250\n",
            "Epoch 61/100\n",
            "1000/1000 [==============================] - 111s 111ms/step - loss: 14.0922 - acc: 0.1250\n",
            "Epoch 62/100\n",
            "1000/1000 [==============================] - 111s 111ms/step - loss: 14.0922 - acc: 0.1250\n",
            "Epoch 63/100\n",
            "1000/1000 [==============================] - 111s 111ms/step - loss: 14.0922 - acc: 0.1250\n",
            "Epoch 64/100\n",
            "1000/1000 [==============================] - 111s 111ms/step - loss: 14.0921 - acc: 0.1250\n",
            "Epoch 65/100\n",
            "1000/1000 [==============================] - 111s 111ms/step - loss: 14.0922 - acc: 0.1250\n",
            "Epoch 66/100\n",
            "1000/1000 [==============================] - 111s 111ms/step - loss: 14.0922 - acc: 0.1250\n",
            "Epoch 67/100\n",
            "1000/1000 [==============================] - 111s 111ms/step - loss: 14.0921 - acc: 0.1250\n",
            "Epoch 68/100\n",
            "1000/1000 [==============================] - 111s 111ms/step - loss: 14.0922 - acc: 0.1250\n",
            "Epoch 69/100\n",
            "1000/1000 [==============================] - 111s 111ms/step - loss: 14.0921 - acc: 0.1250\n",
            "Epoch 70/100\n",
            "1000/1000 [==============================] - 111s 111ms/step - loss: 14.0921 - acc: 0.1250\n",
            "Epoch 71/100\n",
            "1000/1000 [==============================] - 111s 111ms/step - loss: 14.0920 - acc: 0.1250\n",
            "Epoch 72/100\n",
            " 864/1000 [========================>.....] - ETA: 15s - loss: 14.0745 - acc: 0.1261"
          ],
          "name": "stdout"
        }
      ]
    },
    {
      "cell_type": "code",
      "metadata": {
        "id": "kB2tbwgEL1MN",
        "colab_type": "code",
        "colab": {}
      },
      "source": [
        "from keras.utils import plot_model\n",
        "plot_model(segmodel, to_file='model.png', show_shapes=True)"
      ],
      "execution_count": 0,
      "outputs": []
    },
    {
      "cell_type": "code",
      "metadata": {
        "id": "SzY4RPhnoxAP",
        "colab_type": "code",
        "colab": {}
      },
      "source": [
        "a=0"
      ],
      "execution_count": 0,
      "outputs": []
    },
    {
      "cell_type": "code",
      "metadata": {
        "id": "Q8Xo5quRPQur",
        "colab_type": "code",
        "colab": {}
      },
      "source": [
        "a = np.expand_dims(X[1],axis =0)\n"
      ],
      "execution_count": 0,
      "outputs": []
    },
    {
      "cell_type": "code",
      "metadata": {
        "id": "morSB8MQlyyG",
        "colab_type": "code",
        "outputId": "ed922778-edff-4679-b111-eebd00b26cbf",
        "colab": {
          "base_uri": "https://localhost:8080/",
          "height": 34
        }
      },
      "source": [
        "a.shape"
      ],
      "execution_count": 0,
      "outputs": [
        {
          "output_type": "execute_result",
          "data": {
            "text/plain": [
              "(1, 224, 224, 4)"
            ]
          },
          "metadata": {
            "tags": []
          },
          "execution_count": 100
        }
      ]
    },
    {
      "cell_type": "code",
      "metadata": {
        "id": "nE1CmknKM84y",
        "colab_type": "code",
        "outputId": "b8691267-0b93-4513-9f81-65372ee5b084",
        "colab": {
          "base_uri": "https://localhost:8080/",
          "height": 34
        }
      },
      "source": [
        "y.shape"
      ],
      "execution_count": 0,
      "outputs": [
        {
          "output_type": "execute_result",
          "data": {
            "text/plain": [
              "(5000, 224, 224, 22)"
            ]
          },
          "metadata": {
            "tags": []
          },
          "execution_count": 129
        }
      ]
    },
    {
      "cell_type": "code",
      "metadata": {
        "id": "Z8XC9GhkmJiV",
        "colab_type": "code",
        "colab": {}
      },
      "source": [
        "c=segmodel.predict(a)"
      ],
      "execution_count": 0,
      "outputs": []
    },
    {
      "cell_type": "code",
      "metadata": {
        "id": "_jcmHl6qmMdR",
        "colab_type": "code",
        "outputId": "27e8402a-4c44-48c5-df2e-aeb05dfbeaff",
        "colab": {
          "base_uri": "https://localhost:8080/",
          "height": 34
        }
      },
      "source": [
        "c.shape"
      ],
      "execution_count": 0,
      "outputs": [
        {
          "output_type": "execute_result",
          "data": {
            "text/plain": [
              "(1, 224, 224, 22)"
            ]
          },
          "metadata": {
            "tags": []
          },
          "execution_count": 124
        }
      ]
    },
    {
      "cell_type": "code",
      "metadata": {
        "id": "nlrT9fyAmOgc",
        "colab_type": "code",
        "colab": {}
      },
      "source": [
        "c = np.squeeze(c,0)"
      ],
      "execution_count": 0,
      "outputs": []
    },
    {
      "cell_type": "code",
      "metadata": {
        "id": "whg3OtuLmp4s",
        "colab_type": "code",
        "outputId": "36264fc9-3bf4-464d-e7e5-6cc8b55e5b62",
        "colab": {
          "base_uri": "https://localhost:8080/",
          "height": 34
        }
      },
      "source": [
        "c.shape"
      ],
      "execution_count": 0,
      "outputs": [
        {
          "output_type": "execute_result",
          "data": {
            "text/plain": [
              "(224, 224, 22)"
            ]
          },
          "metadata": {
            "tags": []
          },
          "execution_count": 126
        }
      ]
    },
    {
      "cell_type": "code",
      "metadata": {
        "id": "JPYQxUTX5HdZ",
        "colab_type": "code",
        "outputId": "f9e0f1a7-be5a-4e52-f17b-df67511e9f3c",
        "colab": {
          "base_uri": "https://localhost:8080/",
          "height": 51
        }
      },
      "source": [
        "c[100][210]"
      ],
      "execution_count": 0,
      "outputs": [
        {
          "output_type": "execute_result",
          "data": {
            "text/plain": [
              "array([0., 0., 0., 0., 0., 0., 0., 0., 0., 0., 0., 0., 0., 0., 0., 0., 0.,\n",
              "       0., 0., 0., 0., 1.], dtype=float32)"
            ]
          },
          "metadata": {
            "tags": []
          },
          "execution_count": 127
        }
      ]
    },
    {
      "cell_type": "code",
      "metadata": {
        "id": "Ve9bmPvNmy0x",
        "colab_type": "code",
        "outputId": "6afb2b83-4657-497d-bde2-eb0c25e61b55",
        "colab": {
          "base_uri": "https://localhost:8080/",
          "height": 34
        }
      },
      "source": [
        "a.shape"
      ],
      "execution_count": 0,
      "outputs": [
        {
          "output_type": "execute_result",
          "data": {
            "text/plain": [
              "(1, 224, 224, 4)"
            ]
          },
          "metadata": {
            "tags": []
          },
          "execution_count": 105
        }
      ]
    },
    {
      "cell_type": "code",
      "metadata": {
        "id": "y39BEibzm9U5",
        "colab_type": "code",
        "colab": {}
      },
      "source": [
        "class_list = np.array([[0,0,0],[0,11,0] ,[0,12,0],[0,21,0], [0,22,0], [0,23,0], [0,24,0], [0,31,0], [0,41,0], [0,42,0], [0,43,0], [0,51,0], [0,52,0], [0,71,0], [0,72,0], [0,73,0], [0,74,0], [0,81,0], [0,82,0], [0,90,0], [0,95,0],[0, 255,0]])"
      ],
      "execution_count": 0,
      "outputs": []
    },
    {
      "cell_type": "code",
      "metadata": {
        "id": "fP767HzZpx7K",
        "colab_type": "code",
        "outputId": "d3b4b301-75e5-402a-bd4a-6512f8066d61",
        "colab": {
          "base_uri": "https://localhost:8080/",
          "height": 68
        }
      },
      "source": [
        "y[0][0][0]"
      ],
      "execution_count": 0,
      "outputs": [
        {
          "output_type": "execute_result",
          "data": {
            "text/plain": [
              "array([False, False,  True, False, False, False, False, False, False,\n",
              "       False, False, False, False, False, False, False, False, False,\n",
              "       False, False, False, False])"
            ]
          },
          "metadata": {
            "tags": []
          },
          "execution_count": 91
        }
      ]
    },
    {
      "cell_type": "code",
      "metadata": {
        "id": "MRCsIgYNtC3X",
        "colab_type": "code",
        "colab": {}
      },
      "source": [
        "one = y[0]"
      ],
      "execution_count": 0,
      "outputs": []
    },
    {
      "cell_type": "code",
      "metadata": {
        "id": "6cSHh4KrtcbQ",
        "colab_type": "code",
        "outputId": "e6cf628e-de3e-4f1b-bc4e-1e1b031fdd02",
        "colab": {
          "base_uri": "https://localhost:8080/",
          "height": 34
        }
      },
      "source": [
        "one.shape"
      ],
      "execution_count": 0,
      "outputs": [
        {
          "output_type": "execute_result",
          "data": {
            "text/plain": [
              "(224, 224, 22)"
            ]
          },
          "metadata": {
            "tags": []
          },
          "execution_count": 95
        }
      ]
    },
    {
      "cell_type": "code",
      "metadata": {
        "id": "w5KRNOyOtdnl",
        "colab_type": "code",
        "colab": {}
      },
      "source": [
        "f = np.argmax(c,axis =-1)"
      ],
      "execution_count": 0,
      "outputs": []
    },
    {
      "cell_type": "code",
      "metadata": {
        "id": "Su_IXXRXt-QF",
        "colab_type": "code",
        "outputId": "79572d78-1372-4829-953e-bbab9fad7fe7",
        "colab": {
          "base_uri": "https://localhost:8080/",
          "height": 34
        }
      },
      "source": [
        "f.shape"
      ],
      "execution_count": 0,
      "outputs": [
        {
          "output_type": "execute_result",
          "data": {
            "text/plain": [
              "(224, 224)"
            ]
          },
          "metadata": {
            "tags": []
          },
          "execution_count": 116
        }
      ]
    },
    {
      "cell_type": "code",
      "metadata": {
        "id": "pS4POVlduRZo",
        "colab_type": "code",
        "outputId": "9f395422-db07-4828-e0c8-ec32dd88c284",
        "colab": {
          "base_uri": "https://localhost:8080/",
          "height": 136
        }
      },
      "source": [
        "f"
      ],
      "execution_count": 0,
      "outputs": [
        {
          "output_type": "execute_result",
          "data": {
            "text/plain": [
              "array([[21, 21, 21, ..., 21, 21, 21],\n",
              "       [21, 21, 21, ..., 21, 21, 21],\n",
              "       [21, 21, 21, ..., 21, 21, 21],\n",
              "       ...,\n",
              "       [21, 21, 21, ..., 21, 21, 21],\n",
              "       [21, 21, 21, ..., 21, 21, 21],\n",
              "       [21, 21, 21, ..., 21, 21, 21]])"
            ]
          },
          "metadata": {
            "tags": []
          },
          "execution_count": 118
        }
      ]
    },
    {
      "cell_type": "code",
      "metadata": {
        "id": "AE6EH7WNuSye",
        "colab_type": "code",
        "colab": {}
      },
      "source": [
        ""
      ],
      "execution_count": 0,
      "outputs": []
    }
  ]
}